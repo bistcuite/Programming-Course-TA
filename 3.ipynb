{
  "nbformat": 4,
  "nbformat_minor": 0,
  "metadata": {
    "colab": {
      "provenance": []
    },
    "kernelspec": {
      "name": "python3",
      "display_name": "Python 3"
    },
    "language_info": {
      "name": "python"
    }
  },
  "cells": [
    {
      "cell_type": "markdown",
      "source": [
        "# مسئله اول"
      ],
      "metadata": {
        "id": "UuF_zlcLNzqN"
      }
    },
    {
      "cell_type": "code",
      "source": [
        "n = 10\n",
        "S = 0"
      ],
      "metadata": {
        "id": "sPNtYziaNzNs"
      },
      "execution_count": 65,
      "outputs": []
    },
    {
      "cell_type": "code",
      "source": [
        "for i in range(1, n+1):\n",
        "  S += (-1) ** (i) / i"
      ],
      "metadata": {
        "id": "tPMtlA-FRLH9"
      },
      "execution_count": 76,
      "outputs": []
    },
    {
      "cell_type": "code",
      "source": [
        "S"
      ],
      "metadata": {
        "colab": {
          "base_uri": "https://localhost:8080/"
        },
        "id": "BTyCecEhRLoR",
        "outputId": "dcaf5fde-d749-44d5-bc46-c91785601718"
      },
      "execution_count": 74,
      "outputs": [
        {
          "output_type": "execute_result",
          "data": {
            "text/plain": [
              "-6.503571428571428"
            ]
          },
          "metadata": {},
          "execution_count": 74
        }
      ]
    },
    {
      "cell_type": "markdown",
      "source": [
        "# مسئله دوم"
      ],
      "metadata": {
        "id": "9lv4JY8nIMfe"
      }
    },
    {
      "cell_type": "code",
      "execution_count": 57,
      "metadata": {
        "id": "NhLRn1U0IG6i"
      },
      "outputs": [],
      "source": [
        "def f(x):\n",
        "  return (2.718281828459045 ** (-x**2)) * (1 / (1 + x**2))"
      ]
    },
    {
      "cell_type": "code",
      "source": [
        "a = 0 # کران پایین\n",
        "b = 1 # کران بالا\n",
        "n = 1000000 # تعداد مستطیل ها\n",
        "total = 0"
      ],
      "metadata": {
        "id": "Xhw4N9BuJJ01"
      },
      "execution_count": 58,
      "outputs": []
    },
    {
      "cell_type": "code",
      "source": [
        "dx = (b - a) / n"
      ],
      "metadata": {
        "id": "LZCn3-hhIyv2"
      },
      "execution_count": 59,
      "outputs": []
    },
    {
      "cell_type": "code",
      "source": [
        "for i in range(n):\n",
        "  x = a + i * dx\n",
        "  total += f(x) * dx"
      ],
      "metadata": {
        "id": "j3hJ6D8dJQW_"
      },
      "execution_count": 60,
      "outputs": []
    },
    {
      "cell_type": "code",
      "source": [
        "total"
      ],
      "metadata": {
        "colab": {
          "base_uri": "https://localhost:8080/"
        },
        "id": "RtQpumQ-JUeo",
        "outputId": "0fb22de8-48d2-4af0-8165-dd148ec25cb1"
      },
      "execution_count": 61,
      "outputs": [
        {
          "output_type": "execute_result",
          "data": {
            "text/plain": [
              "0.6188223713382266"
            ]
          },
          "metadata": {},
          "execution_count": 61
        }
      ]
    }
  ]
}