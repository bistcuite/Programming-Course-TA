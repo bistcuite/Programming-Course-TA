{
  "cells": [
    {
      "cell_type": "markdown",
      "metadata": {
        "id": "UuF_zlcLNzqN"
      },
      "source": [
        "# مسئله اول"
      ]
    },
    {
      "cell_type": "code",
      "execution_count": 6,
      "metadata": {
        "id": "sPNtYziaNzNs"
      },
      "outputs": [],
      "source": [
        "x = 2\n",
        "n = 3\n",
        "S = 0"
      ]
    },
    {
      "cell_type": "code",
      "execution_count": 7,
      "metadata": {
        "id": "tPMtlA-FRLH9"
      },
      "outputs": [],
      "source": [
        "for i in range(n):\n",
        "  S += ( ((-1)**i) * (x**i) ) / (i + 1)"
      ]
    },
    {
      "cell_type": "code",
      "execution_count": 8,
      "metadata": {
        "colab": {
          "base_uri": "https://localhost:8080/"
        },
        "id": "BTyCecEhRLoR",
        "outputId": "dcaf5fde-d749-44d5-bc46-c91785601718"
      },
      "outputs": [
        {
          "data": {
            "text/plain": [
              "1.3333333333333333"
            ]
          },
          "execution_count": 8,
          "metadata": {},
          "output_type": "execute_result"
        }
      ],
      "source": [
        "S"
      ]
    },
    {
      "cell_type": "markdown",
      "metadata": {
        "id": "9lv4JY8nIMfe"
      },
      "source": [
        "# مسئله دوم"
      ]
    },
    {
      "cell_type": "code",
      "execution_count": 1,
      "metadata": {
        "id": "NhLRn1U0IG6i"
      },
      "outputs": [],
      "source": [
        "def f(x):\n",
        "  return x**2"
      ]
    },
    {
      "cell_type": "code",
      "execution_count": 2,
      "metadata": {
        "id": "Xhw4N9BuJJ01"
      },
      "outputs": [],
      "source": [
        "a = 0 # کران پایین\n",
        "b = 3 # کران بالا\n",
        "n = 1000000 # تعداد مستطیل ها\n",
        "total = 0"
      ]
    },
    {
      "cell_type": "code",
      "execution_count": 3,
      "metadata": {
        "id": "LZCn3-hhIyv2"
      },
      "outputs": [],
      "source": [
        "dx = (b - a) / n"
      ]
    },
    {
      "cell_type": "code",
      "execution_count": 4,
      "metadata": {
        "id": "j3hJ6D8dJQW_"
      },
      "outputs": [],
      "source": [
        "for i in range(n):\n",
        "  x = a + i * dx\n",
        "  total += f(x) * dx"
      ]
    },
    {
      "cell_type": "code",
      "execution_count": 5,
      "metadata": {
        "colab": {
          "base_uri": "https://localhost:8080/"
        },
        "id": "RtQpumQ-JUeo",
        "outputId": "0fb22de8-48d2-4af0-8165-dd148ec25cb1"
      },
      "outputs": [
        {
          "data": {
            "text/plain": [
              "8.999986500004558"
            ]
          },
          "execution_count": 5,
          "metadata": {},
          "output_type": "execute_result"
        }
      ],
      "source": [
        "total"
      ]
    },
    {
      "cell_type": "code",
      "execution_count": null,
      "metadata": {},
      "outputs": [],
      "source": []
    }
  ],
  "metadata": {
    "colab": {
      "provenance": []
    },
    "kernelspec": {
      "display_name": "Python 3",
      "name": "python3"
    },
    "language_info": {
      "codemirror_mode": {
        "name": "ipython",
        "version": 3
      },
      "file_extension": ".py",
      "mimetype": "text/x-python",
      "name": "python",
      "nbconvert_exporter": "python",
      "pygments_lexer": "ipython3",
      "version": "3.12.1"
    }
  },
  "nbformat": 4,
  "nbformat_minor": 0
}
